{
 "cells": [
  {
   "cell_type": "code",
   "execution_count": 1,
   "metadata": {},
   "outputs": [],
   "source": [
    "import pandas as pd"
   ]
  },
  {
   "cell_type": "markdown",
   "metadata": {},
   "source": [
    "## Results from ibm_marrakesh for LABS with sequence length 20"
   ]
  },
  {
   "cell_type": "code",
   "execution_count": 3,
   "metadata": {},
   "outputs": [
    {
     "data": {
      "text/html": [
       "<div>\n",
       "<style scoped>\n",
       "    .dataframe tbody tr th:only-of-type {\n",
       "        vertical-align: middle;\n",
       "    }\n",
       "\n",
       "    .dataframe tbody tr th {\n",
       "        vertical-align: top;\n",
       "    }\n",
       "\n",
       "    .dataframe thead th {\n",
       "        text-align: right;\n",
       "    }\n",
       "</style>\n",
       "<table border=\"1\" class=\"dataframe\">\n",
       "  <thead>\n",
       "    <tr style=\"text-align: right;\">\n",
       "      <th></th>\n",
       "      <th>run</th>\n",
       "      <th>success_probability</th>\n",
       "      <th>total runtime</th>\n",
       "      <th>pre-processing time</th>\n",
       "      <th>quantum runtime</th>\n",
       "      <th>post-processing time</th>\n",
       "    </tr>\n",
       "  </thead>\n",
       "  <tbody>\n",
       "    <tr>\n",
       "      <th>0</th>\n",
       "      <td>1</td>\n",
       "      <td>0.10</td>\n",
       "      <td>32.23</td>\n",
       "      <td>0.213</td>\n",
       "      <td>32</td>\n",
       "      <td>0.01</td>\n",
       "    </tr>\n",
       "    <tr>\n",
       "      <th>1</th>\n",
       "      <td>2</td>\n",
       "      <td>0.23</td>\n",
       "      <td>32.25</td>\n",
       "      <td>0.241</td>\n",
       "      <td>32</td>\n",
       "      <td>0.01</td>\n",
       "    </tr>\n",
       "    <tr>\n",
       "      <th>2</th>\n",
       "      <td>3</td>\n",
       "      <td>0.37</td>\n",
       "      <td>32.23</td>\n",
       "      <td>0.216</td>\n",
       "      <td>32</td>\n",
       "      <td>0.01</td>\n",
       "    </tr>\n",
       "    <tr>\n",
       "      <th>3</th>\n",
       "      <td>4</td>\n",
       "      <td>0.45</td>\n",
       "      <td>32.24</td>\n",
       "      <td>0.226</td>\n",
       "      <td>32</td>\n",
       "      <td>0.01</td>\n",
       "    </tr>\n",
       "    <tr>\n",
       "      <th>4</th>\n",
       "      <td>5</td>\n",
       "      <td>0.10</td>\n",
       "      <td>32.24</td>\n",
       "      <td>0.225</td>\n",
       "      <td>32</td>\n",
       "      <td>0.01</td>\n",
       "    </tr>\n",
       "    <tr>\n",
       "      <th>5</th>\n",
       "      <td>6</td>\n",
       "      <td>0.25</td>\n",
       "      <td>96.68</td>\n",
       "      <td>0.665</td>\n",
       "      <td>96</td>\n",
       "      <td>0.01</td>\n",
       "    </tr>\n",
       "    <tr>\n",
       "      <th>6</th>\n",
       "      <td>7</td>\n",
       "      <td>0.49</td>\n",
       "      <td>64.44</td>\n",
       "      <td>0.427</td>\n",
       "      <td>64</td>\n",
       "      <td>0.01</td>\n",
       "    </tr>\n",
       "    <tr>\n",
       "      <th>7</th>\n",
       "      <td>8</td>\n",
       "      <td>0.13</td>\n",
       "      <td>64.42</td>\n",
       "      <td>0.408</td>\n",
       "      <td>64</td>\n",
       "      <td>0.01</td>\n",
       "    </tr>\n",
       "    <tr>\n",
       "      <th>8</th>\n",
       "      <td>9</td>\n",
       "      <td>0.08</td>\n",
       "      <td>128.87</td>\n",
       "      <td>0.854</td>\n",
       "      <td>128</td>\n",
       "      <td>0.01</td>\n",
       "    </tr>\n",
       "    <tr>\n",
       "      <th>9</th>\n",
       "      <td>10</td>\n",
       "      <td>0.12</td>\n",
       "      <td>96.64</td>\n",
       "      <td>0.630</td>\n",
       "      <td>96</td>\n",
       "      <td>0.01</td>\n",
       "    </tr>\n",
       "  </tbody>\n",
       "</table>\n",
       "</div>"
      ],
      "text/plain": [
       "   run  success_probability  total runtime  pre-processing time  \\\n",
       "0    1                 0.10          32.23                0.213   \n",
       "1    2                 0.23          32.25                0.241   \n",
       "2    3                 0.37          32.23                0.216   \n",
       "3    4                 0.45          32.24                0.226   \n",
       "4    5                 0.10          32.24                0.225   \n",
       "5    6                 0.25          96.68                0.665   \n",
       "6    7                 0.49          64.44                0.427   \n",
       "7    8                 0.13          64.42                0.408   \n",
       "8    9                 0.08         128.87                0.854   \n",
       "9   10                 0.12          96.64                0.630   \n",
       "\n",
       "   quantum runtime  post-processing time  \n",
       "0               32                  0.01  \n",
       "1               32                  0.01  \n",
       "2               32                  0.01  \n",
       "3               32                  0.01  \n",
       "4               32                  0.01  \n",
       "5               96                  0.01  \n",
       "6               64                  0.01  \n",
       "7               64                  0.01  \n",
       "8              128                  0.01  \n",
       "9               96                  0.01  "
      ]
     },
     "execution_count": 3,
     "metadata": {},
     "output_type": "execute_result"
    }
   ],
   "source": [
    "data_exp = pd.read_csv('results_ibm/data_exp.csv')\n",
    "data_exp"
   ]
  },
  {
   "cell_type": "markdown",
   "metadata": {},
   "source": [
    "## Optimal bitstrings"
   ]
  },
  {
   "cell_type": "code",
   "execution_count": 18,
   "metadata": {},
   "outputs": [
    {
     "name": "stdout",
     "output_type": "stream",
     "text": [
      "run: 0 \tbitstring: 10011100101110100000\n",
      "run: 1 \tbitstring: 00110110000100001010\n",
      "run: 2 \tbitstring: 00110110000100001010\n",
      "run: 3 \tbitstring: 11111010001011000110\n",
      "run: 4 \tbitstring: 00110110000100001010\n",
      "run: 5 \tbitstring: 11111010001011000110\n",
      "run: 6 \tbitstring: 00000101110100111001\n",
      "run: 7 \tbitstring: 01010000100001101100\n",
      "run: 8 \tbitstring: 00000101110100111001\n",
      "run: 9 \tbitstring: 00110110000100001010\n"
     ]
    }
   ],
   "source": [
    "import json\n",
    "\n",
    "with open(\"results_ibm/bitstrings.json\", \"r\") as file:\n",
    "    bitstrings = json.load(file)\n",
    "\n",
    "for run,bs in bitstrings.items():\n",
    "    print(\"run:\",run, \"\\tbitstring:\",bs)"
   ]
  }
 ],
 "metadata": {
  "kernelspec": {
   "display_name": ".venv",
   "language": "python",
   "name": "python3"
  },
  "language_info": {
   "codemirror_mode": {
    "name": "ipython",
    "version": 3
   },
   "file_extension": ".py",
   "mimetype": "text/x-python",
   "name": "python",
   "nbconvert_exporter": "python",
   "pygments_lexer": "ipython3",
   "version": "3.11.5"
  }
 },
 "nbformat": 4,
 "nbformat_minor": 2
}
